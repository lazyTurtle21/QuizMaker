{
 "cells": [
  {
   "cell_type": "code",
   "execution_count": 1,
   "metadata": {
    "scrolled": true
   },
   "outputs": [
    {
     "name": "stdout",
     "output_type": "stream",
     "text": [
      "Requirement already satisfied: bs4 in c:\\users\\sofik\\appdata\\local\\programs\\python\\python37\\lib\\site-packages (0.0.1)\n",
      "Requirement already satisfied: beautifulsoup4 in c:\\users\\sofik\\appdata\\local\\programs\\python\\python37\\lib\\site-packages (from bs4) (4.8.2)\n",
      "Requirement already satisfied: soupsieve>=1.2 in c:\\users\\sofik\\appdata\\local\\programs\\python\\python37\\lib\\site-packages (from beautifulsoup4->bs4) (2.0)\n"
     ]
    },
    {
     "name": "stderr",
     "output_type": "stream",
     "text": [
      "WARNING: You are using pip version 19.3.1; however, version 20.0.2 is available.\n",
      "You should consider upgrading via the 'python -m pip install --upgrade pip' command.\n"
     ]
    },
    {
     "name": "stdout",
     "output_type": "stream",
     "text": [
      "Requirement already satisfied: spacy in c:\\users\\sofik\\appdata\\local\\programs\\python\\python37\\lib\\site-packages (2.2.4)\n",
      "Requirement already satisfied: setuptools in c:\\users\\sofik\\appdata\\local\\programs\\python\\python37\\lib\\site-packages (from spacy) (45.0.0)\n",
      "Requirement already satisfied: blis<0.5.0,>=0.4.0 in c:\\users\\sofik\\appdata\\local\\programs\\python\\python37\\lib\\site-packages (from spacy) (0.4.1)\n",
      "Requirement already satisfied: cymem<2.1.0,>=2.0.2 in c:\\users\\sofik\\appdata\\local\\programs\\python\\python37\\lib\\site-packages (from spacy) (2.0.3)\n",
      "Requirement already satisfied: numpy>=1.15.0 in c:\\users\\sofik\\appdata\\local\\programs\\python\\python37\\lib\\site-packages (from spacy) (1.17.0)\n",
      "Requirement already satisfied: srsly<1.1.0,>=1.0.2 in c:\\users\\sofik\\appdata\\local\\programs\\python\\python37\\lib\\site-packages (from spacy) (1.0.2)\n",
      "Requirement already satisfied: tqdm<5.0.0,>=4.38.0 in c:\\users\\sofik\\appdata\\local\\programs\\python\\python37\\lib\\site-packages (from spacy) (4.43.0)\n",
      "Requirement already satisfied: catalogue<1.1.0,>=0.0.7 in c:\\users\\sofik\\appdata\\local\\programs\\python\\python37\\lib\\site-packages (from spacy) (1.0.0)\n",
      "Requirement already satisfied: plac<1.2.0,>=0.9.6 in c:\\users\\sofik\\appdata\\local\\programs\\python\\python37\\lib\\site-packages (from spacy) (1.1.3)\n",
      "Requirement already satisfied: murmurhash<1.1.0,>=0.28.0 in c:\\users\\sofik\\appdata\\local\\programs\\python\\python37\\lib\\site-packages (from spacy) (1.0.2)\n",
      "Requirement already satisfied: wasabi<1.1.0,>=0.4.0 in c:\\users\\sofik\\appdata\\local\\programs\\python\\python37\\lib\\site-packages (from spacy) (0.6.0)\n",
      "Requirement already satisfied: requests<3.0.0,>=2.13.0 in c:\\users\\sofik\\appdata\\local\\programs\\python\\python37\\lib\\site-packages (from spacy) (2.22.0)\n",
      "Requirement already satisfied: preshed<3.1.0,>=3.0.2 in c:\\users\\sofik\\appdata\\local\\programs\\python\\python37\\lib\\site-packages (from spacy) (3.0.2)\n",
      "Requirement already satisfied: thinc==7.4.0 in c:\\users\\sofik\\appdata\\local\\programs\\python\\python37\\lib\\site-packages (from spacy) (7.4.0)\n",
      "Requirement already satisfied: importlib-metadata>=0.20; python_version < \"3.8\" in c:\\users\\sofik\\appdata\\local\\programs\\python\\python37\\lib\\site-packages (from catalogue<1.1.0,>=0.0.7->spacy) (0.23)\n",
      "Requirement already satisfied: chardet<3.1.0,>=3.0.2 in c:\\users\\sofik\\appdata\\local\\programs\\python\\python37\\lib\\site-packages (from requests<3.0.0,>=2.13.0->spacy) (3.0.4)\n",
      "Requirement already satisfied: certifi>=2017.4.17 in c:\\users\\sofik\\appdata\\local\\programs\\python\\python37\\lib\\site-packages (from requests<3.0.0,>=2.13.0->spacy) (2019.3.9)\n",
      "Requirement already satisfied: urllib3!=1.25.0,!=1.25.1,<1.26,>=1.21.1 in c:\\users\\sofik\\appdata\\local\\programs\\python\\python37\\lib\\site-packages (from requests<3.0.0,>=2.13.0->spacy) (1.24.3)\n",
      "Requirement already satisfied: idna<2.9,>=2.5 in c:\\users\\sofik\\appdata\\local\\programs\\python\\python37\\lib\\site-packages (from requests<3.0.0,>=2.13.0->spacy) (2.8)\n",
      "Requirement already satisfied: zipp>=0.5 in c:\\users\\sofik\\appdata\\local\\programs\\python\\python37\\lib\\site-packages (from importlib-metadata>=0.20; python_version < \"3.8\"->catalogue<1.1.0,>=0.0.7->spacy) (0.6.0)\n",
      "Requirement already satisfied: more-itertools in c:\\users\\sofik\\appdata\\local\\programs\\python\\python37\\lib\\site-packages (from zipp>=0.5->importlib-metadata>=0.20; python_version < \"3.8\"->catalogue<1.1.0,>=0.0.7->spacy) (7.2.0)\n"
     ]
    },
    {
     "name": "stderr",
     "output_type": "stream",
     "text": [
      "WARNING: You are using pip version 19.3.1; however, version 20.0.2 is available.\n",
      "You should consider upgrading via the 'python -m pip install --upgrade pip' command.\n"
     ]
    },
    {
     "name": "stdout",
     "output_type": "stream",
     "text": [
      "Requirement already satisfied: en_core_web_sm==2.2.5 from https://github.com/explosion/spacy-models/releases/download/en_core_web_sm-2.2.5/en_core_web_sm-2.2.5.tar.gz#egg=en_core_web_sm==2.2.5 in c:\\users\\sofik\\appdata\\local\\programs\\python\\python37\\lib\\site-packages (2.2.5)\n",
      "Requirement already satisfied: spacy>=2.2.2 in c:\\users\\sofik\\appdata\\local\\programs\\python\\python37\\lib\\site-packages (from en_core_web_sm==2.2.5) (2.2.4)\n",
      "Requirement already satisfied: srsly<1.1.0,>=1.0.2 in c:\\users\\sofik\\appdata\\local\\programs\\python\\python37\\lib\\site-packages (from spacy>=2.2.2->en_core_web_sm==2.2.5) (1.0.2)\n",
      "Requirement already satisfied: cymem<2.1.0,>=2.0.2 in c:\\users\\sofik\\appdata\\local\\programs\\python\\python37\\lib\\site-packages (from spacy>=2.2.2->en_core_web_sm==2.2.5) (2.0.3)\n",
      "Requirement already satisfied: tqdm<5.0.0,>=4.38.0 in c:\\users\\sofik\\appdata\\local\\programs\\python\\python37\\lib\\site-packages (from spacy>=2.2.2->en_core_web_sm==2.2.5) (4.43.0)\n",
      "Requirement already satisfied: wasabi<1.1.0,>=0.4.0 in c:\\users\\sofik\\appdata\\local\\programs\\python\\python37\\lib\\site-packages (from spacy>=2.2.2->en_core_web_sm==2.2.5) (0.6.0)\n",
      "Requirement already satisfied: setuptools in c:\\users\\sofik\\appdata\\local\\programs\\python\\python37\\lib\\site-packages (from spacy>=2.2.2->en_core_web_sm==2.2.5) (45.0.0)\n",
      "Requirement already satisfied: thinc==7.4.0 in c:\\users\\sofik\\appdata\\local\\programs\\python\\python37\\lib\\site-packages (from spacy>=2.2.2->en_core_web_sm==2.2.5) (7.4.0)\n",
      "Requirement already satisfied: requests<3.0.0,>=2.13.0 in c:\\users\\sofik\\appdata\\local\\programs\\python\\python37\\lib\\site-packages (from spacy>=2.2.2->en_core_web_sm==2.2.5) (2.22.0)\n",
      "Requirement already satisfied: plac<1.2.0,>=0.9.6 in c:\\users\\sofik\\appdata\\local\\programs\\python\\python37\\lib\\site-packages (from spacy>=2.2.2->en_core_web_sm==2.2.5) (1.1.3)\n",
      "Requirement already satisfied: preshed<3.1.0,>=3.0.2 in c:\\users\\sofik\\appdata\\local\\programs\\python\\python37\\lib\\site-packages (from spacy>=2.2.2->en_core_web_sm==2.2.5) (3.0.2)\n",
      "Requirement already satisfied: catalogue<1.1.0,>=0.0.7 in c:\\users\\sofik\\appdata\\local\\programs\\python\\python37\\lib\\site-packages (from spacy>=2.2.2->en_core_web_sm==2.2.5) (1.0.0)\n",
      "Requirement already satisfied: numpy>=1.15.0 in c:\\users\\sofik\\appdata\\local\\programs\\python\\python37\\lib\\site-packages (from spacy>=2.2.2->en_core_web_sm==2.2.5) (1.17.0)\n",
      "Requirement already satisfied: blis<0.5.0,>=0.4.0 in c:\\users\\sofik\\appdata\\local\\programs\\python\\python37\\lib\\site-packages (from spacy>=2.2.2->en_core_web_sm==2.2.5) (0.4.1)\n",
      "Requirement already satisfied: murmurhash<1.1.0,>=0.28.0 in c:\\users\\sofik\\appdata\\local\\programs\\python\\python37\\lib\\site-packages (from spacy>=2.2.2->en_core_web_sm==2.2.5) (1.0.2)\n",
      "Requirement already satisfied: chardet<3.1.0,>=3.0.2 in c:\\users\\sofik\\appdata\\local\\programs\\python\\python37\\lib\\site-packages (from requests<3.0.0,>=2.13.0->spacy>=2.2.2->en_core_web_sm==2.2.5) (3.0.4)\n",
      "Requirement already satisfied: certifi>=2017.4.17 in c:\\users\\sofik\\appdata\\local\\programs\\python\\python37\\lib\\site-packages (from requests<3.0.0,>=2.13.0->spacy>=2.2.2->en_core_web_sm==2.2.5) (2019.3.9)\n",
      "Requirement already satisfied: urllib3!=1.25.0,!=1.25.1,<1.26,>=1.21.1 in c:\\users\\sofik\\appdata\\local\\programs\\python\\python37\\lib\\site-packages (from requests<3.0.0,>=2.13.0->spacy>=2.2.2->en_core_web_sm==2.2.5) (1.24.3)\n",
      "Requirement already satisfied: idna<2.9,>=2.5 in c:\\users\\sofik\\appdata\\local\\programs\\python\\python37\\lib\\site-packages (from requests<3.0.0,>=2.13.0->spacy>=2.2.2->en_core_web_sm==2.2.5) (2.8)\n",
      "Requirement already satisfied: importlib-metadata>=0.20; python_version < \"3.8\" in c:\\users\\sofik\\appdata\\local\\programs\\python\\python37\\lib\\site-packages (from catalogue<1.1.0,>=0.0.7->spacy>=2.2.2->en_core_web_sm==2.2.5) (0.23)\n",
      "Requirement already satisfied: zipp>=0.5 in c:\\users\\sofik\\appdata\\local\\programs\\python\\python37\\lib\\site-packages (from importlib-metadata>=0.20; python_version < \"3.8\"->catalogue<1.1.0,>=0.0.7->spacy>=2.2.2->en_core_web_sm==2.2.5) (0.6.0)\n",
      "Requirement already satisfied: more-itertools in c:\\users\\sofik\\appdata\\local\\programs\\python\\python37\\lib\\site-packages (from zipp>=0.5->importlib-metadata>=0.20; python_version < \"3.8\"->catalogue<1.1.0,>=0.0.7->spacy>=2.2.2->en_core_web_sm==2.2.5) (7.2.0)\n",
      "[+] Download and installation successful\n",
      "You can now load the model via spacy.load('en_core_web_sm')\n"
     ]
    },
    {
     "name": "stderr",
     "output_type": "stream",
     "text": [
      "WARNING: You are using pip version 19.3.1; however, version 20.0.2 is available.\n",
      "You should consider upgrading via the 'python -m pip install --upgrade pip' command.\n"
     ]
    }
   ],
   "source": [
    "!pip install bs4\n",
    "!pip install spacy\n",
    "!python -m spacy download en_core_web_sm"
   ]
  },
  {
   "cell_type": "code",
   "execution_count": 62,
   "metadata": {},
   "outputs": [],
   "source": [
    "import spacy\n",
    "import re\n",
    "import pandas as pd\n",
    "import numpy as np\n",
    "import bs4\n",
    "import requests\n",
    "from spacy import displacy\n",
    "\n",
    "nlp = spacy.load('en_core_web_sm')\n",
    "\n",
    "from spacy.matcher import Matcher \n",
    "from spacy.tokens import Span \n",
    "\n",
    "import networkx as nx\n",
    "\n",
    "import matplotlib.pyplot as plt\n",
    "\n",
    "pd.set_option('display.max_colwidth', 200)\n",
    "%matplotlib inline\n"
   ]
  },
  {
   "cell_type": "code",
   "execution_count": 63,
   "metadata": {},
   "outputs": [],
   "source": [
    "def read_file(filename):\n",
    "    with open(filename, encoding='utf-8', mode='r', errors='ignore') as file:\n",
    "        return file.read().strip() \n"
   ]
  },
  {
   "cell_type": "code",
   "execution_count": 64,
   "metadata": {},
   "outputs": [],
   "source": [
    "book = read_file('data/Strang-Linear Algebra.txt')"
   ]
  },
  {
   "cell_type": "code",
   "execution_count": 69,
   "metadata": {},
   "outputs": [],
   "source": [
    "def get_one_chapter(chapter_number, book):\n",
    "    s_chapter_number = str(chapter_number)\n",
    "    chapter_starts = re.search('Chapter\\s' + s_chapter_number +'\\s\\n.*\\s\\n' + s_chapter_number + '\\.1.*\\n', book)\n",
    "    chapter_ends = re.search('Chapter\\s' + str(chapter_number + 1) + '\\s\\n.*\\s\\n' + str(chapter_number + 1) + '\\.1', \n",
    "                             book[chapter_starts.start():])\n",
    "    chapter = book[chapter_starts.end():chapter_starts.end()+chapter_ends.start()]\n",
    "      \n",
    "    # TODO: check if this gavnocode works\n",
    "    problem_set_start = re.search('Problem\\sSet\\s' + s_chapter_number + '\\.[0-9]+\\s', chapter)\n",
    "\n",
    "    while problem_set_start:\n",
    "        if chapter.count('Problem\\sSet\\s') == 1:  # very clever ifka, only sverhrazums top 5 understand\n",
    "            chapter = chapter[:problem_set_start.start()]\n",
    "            break\n",
    "        problem_set_end = re.search(s_chapter_number + '\\.[0-9]+\\s.*\\n', chapter[problem_set_start.end():])\n",
    "        chapter = chapter[:problem_set_start.start()] + chapter[problem_set_start.end() + problem_set_end.start():]\n",
    "        problem_set_start = re.search('Problem\\sSet\\s' + s_chapter_number + '\\.[0-9]+\\s', chapter)\n",
    "\n",
    "        \n",
    "    return re.split(r'(?<=[^A-Z].[.?]) +(?=[A-Z])', chapter.replace('\\n', ' ').strip())\n"
   ]
  },
  {
   "cell_type": "code",
   "execution_count": 70,
   "metadata": {},
   "outputs": [],
   "source": [
    "def sentence_fits(s):\n",
    "    \"\"\"Check if sentence contains only one subject and one object\"\"\"\n",
    "    deps = ''.join([token.dep_ for token in nlp(s)])\n",
    "    return deps.count('obj') == 1 & deps.count('subj') == 1\n",
    "    "
   ]
  },
  {
   "cell_type": "code",
   "execution_count": 71,
   "metadata": {},
   "outputs": [
    {
     "data": {
      "text/plain": [
       "['This  should work and it does: 4 times (x = .1) plus 5 times (y = 2) equals 6.  2.',\n",
       " 'Elimination wins (and this is even the best way to  compute determinants).',\n",
       " 'Singular cases have none or too many.',\n",
       " 'The computer can do those quickly, but not many trillions.',\n",
       " 'We want to see them both.',\n",
       " 'The first approach concentrates on the separate equations (the rows).',\n",
       " 'The second  equation x+y = 5 produces a second line (Figure 1.2a).',\n",
       " 'It is the only solution to both equations.',\n",
       " 'Geometrically this produces a famous parallelogram.',\n",
       " 'The column picture confirms that x = 2 and y = 3.',\n",
       " 'It contains the points (52 ;0;0) and (0;5;0) and (0;0;5).',\n",
       " 'That  triple intersection point (1;1;2) solves the linear system.',\n",
       " 'How does this row picture extend into n dimensions?',\n",
       " 'The n equations will contain  n unknowns.',\n",
       " 'The first equation still determines a plane.',\n",
       " 'Finally a fourth plane leaves a single point.',\n",
       " 'You can choose the arrow, or the point, or the three numbers.',\n",
       " 'For certain equations that will be impossible.',\n",
       " 'The most common difficulty is shown in Figure 1.5b.',\n",
       " 'Now the  third equation is the sum of the first two.',\n",
       " 'After some calculation, it is u = 3, v = 1,  w = .2.',\n",
       " 'Column 1 is in\\x0c 10 Chapter 1 Matrices and Gaussian Elimination  the plane of columns 2 and 3.',\n",
       " 'Chapter 2 studies the general case, where there may be many solutions or none.',\n",
       " 'These equations are certain to have the solution x = y = 0.',\n",
       " 'Problems 1315 are a review of the row and column pictures.  13.']"
      ]
     },
     "execution_count": 71,
     "metadata": {},
     "output_type": "execute_result"
    }
   ],
   "source": [
    "chapter = get_one_chapter(1, book)\n",
    "\n",
    "sentences = [i for i in chapter if sentence_fits(i)]\n",
    "sentences[:25]"
   ]
  },
  {
   "cell_type": "code",
   "execution_count": 72,
   "metadata": {},
   "outputs": [],
   "source": [
    "def get_relation(sent):\n",
    "    doc = nlp(sent)\n",
    "\n",
    "    # Matcher class object \n",
    "    matcher = Matcher(nlp.vocab)\n",
    "\n",
    "    #define the pattern \n",
    "    pattern = [{'DEP':'ROOT'}, \n",
    "            {'DEP':'prep','OP':\"?\"},\n",
    "            {'DEP':'agent','OP':\"?\"},  \n",
    "            {'POS':'ADJ','OP':\"?\"}] \n",
    "\n",
    "    matcher.add(\"matching_1\", None, pattern) \n",
    "\n",
    "    matches = matcher(doc)\n",
    "    k = len(matches) - 1\n",
    "\n",
    "    span = doc[matches[k][1]:matches[k][2]] \n",
    "\n",
    "    return(span.text)\n"
   ]
  },
  {
   "cell_type": "code",
   "execution_count": 73,
   "metadata": {},
   "outputs": [
    {
     "data": {
      "text/plain": [
       "is               22\n",
       "have             10\n",
       "are               8\n",
       "be                4\n",
       "produces          3\n",
       "Matrices          2\n",
       "gives             2\n",
       "came from         2\n",
       "U.                2\n",
       "was               2\n",
       "20                2\n",
       "13                2\n",
       "is in             2\n",
       "solves            2\n",
       "Suppose           2\n",
       "56                2\n",
       "has               2\n",
       "know              2\n",
       "contains          2\n",
       "happen at         1\n",
       "are about         1\n",
       "Note              1\n",
       "permute           1\n",
       "executes          1\n",
       "be consistent     1\n",
       "dtype: int64"
      ]
     },
     "execution_count": 73,
     "metadata": {},
     "output_type": "execute_result"
    }
   ],
   "source": [
    "relations = [get_relation(i) for i in sentences]\n",
    "pd.Series(relations).value_counts()[:25]"
   ]
  },
  {
   "cell_type": "code",
   "execution_count": 74,
   "metadata": {},
   "outputs": [],
   "source": [
    "def get_entities(sent):\n",
    "    ## chunk 1\n",
    "    ent1 = \"\"\n",
    "    ent2 = \"\"\n",
    "\n",
    "    prv_tok_dep = \"\"    # dependency tag of previous token in the sentence\n",
    "    prv_tok_text = \"\"   # previous token in the sentence\n",
    "\n",
    "    prefix = \"\"\n",
    "    modifier = \"\"\n",
    "\n",
    "    for tok in nlp(sent):\n",
    "        ## chunk 2\n",
    "        # if token is a punctuation mark then move on to the next token\n",
    "        if tok.dep_ != \"punct\":\n",
    "            # check: token is a compound word or not\n",
    "            if tok.dep_ == \"compound\":\n",
    "                prefix = tok.text\n",
    "                # if the previous word was also a 'compound' then add the current word to it\n",
    "                if prv_tok_dep == \"compound\":\n",
    "                    prefix = prv_tok_text + \" \"+ tok.text\n",
    "\n",
    "            # check: token is a modifier or not\n",
    "            if tok.dep_.endswith(\"mod\") == True:\n",
    "                modifier = tok.text\n",
    "                # if the previous word was also a 'compound' then add the current word to it\n",
    "                if prv_tok_dep == \"compound\":\n",
    "                    modifier = prv_tok_text + \" \"+ tok.text\n",
    "\n",
    "            ## chunk 3\n",
    "            if tok.dep_.find(\"subj\") == True:\n",
    "                ent1 = modifier +\" \"+ prefix + \" \"+ tok.text\n",
    "                prefix = \"\"\n",
    "                modifier = \"\"\n",
    "                prv_tok_dep = \"\"\n",
    "                prv_tok_text = \"\"      \n",
    "\n",
    "            ## chunk 4\n",
    "            if tok.dep_.find(\"obj\") == True:\n",
    "                ent2 = modifier +\" \"+ prefix +\" \"+ tok.text\n",
    "\n",
    "            ## chunk 5  \n",
    "            # update variables\n",
    "            prv_tok_dep = tok.dep_\n",
    "            prv_tok_text = tok.text\n",
    "\n",
    "    return [ent1.strip(), ent2.strip()]\n"
   ]
  },
  {
   "cell_type": "code",
   "execution_count": 76,
   "metadata": {},
   "outputs": [
    {
     "ename": "ValueError",
     "evalue": "could not convert string to float: '4  times'",
     "output_type": "error",
     "traceback": [
      "\u001b[1;31m---------------------------------------------------------------------------\u001b[0m",
      "\u001b[1;31mValueError\u001b[0m                                Traceback (most recent call last)",
      "\u001b[1;32m<ipython-input-76-3c32057883ed>\u001b[0m in \u001b[0;36m<module>\u001b[1;34m\u001b[0m\n\u001b[0;32m      3\u001b[0m \u001b[1;33m\u001b[0m\u001b[0m\n\u001b[0;32m      4\u001b[0m \u001b[1;32mfor\u001b[0m \u001b[0mi\u001b[0m\u001b[1;33m,\u001b[0m \u001b[0ms\u001b[0m \u001b[1;32min\u001b[0m \u001b[0menumerate\u001b[0m\u001b[1;33m(\u001b[0m\u001b[0msentences\u001b[0m\u001b[1;33m)\u001b[0m\u001b[1;33m:\u001b[0m\u001b[1;33m\u001b[0m\u001b[1;33m\u001b[0m\u001b[0m\n\u001b[1;32m----> 5\u001b[1;33m     \u001b[0mobjects\u001b[0m\u001b[1;33m[\u001b[0m\u001b[0mi\u001b[0m\u001b[1;33m]\u001b[0m\u001b[1;33m,\u001b[0m \u001b[0msubjects\u001b[0m\u001b[1;33m[\u001b[0m\u001b[0mi\u001b[0m\u001b[1;33m]\u001b[0m \u001b[1;33m=\u001b[0m \u001b[0mget_entities\u001b[0m\u001b[1;33m(\u001b[0m\u001b[0ms\u001b[0m\u001b[1;33m)\u001b[0m\u001b[1;33m\u001b[0m\u001b[1;33m\u001b[0m\u001b[0m\n\u001b[0m\u001b[0;32m      6\u001b[0m \u001b[1;33m\u001b[0m\u001b[0m\n\u001b[0;32m      7\u001b[0m \u001b[0msubjects\u001b[0m\u001b[1;33m[\u001b[0m\u001b[1;33m:\u001b[0m\u001b[1;36m25\u001b[0m\u001b[1;33m]\u001b[0m\u001b[1;33m\u001b[0m\u001b[1;33m\u001b[0m\u001b[0m\n",
      "\u001b[1;31mValueError\u001b[0m: could not convert string to float: '4  times'"
     ]
    }
   ],
   "source": [
    "objects = np.empty(len(sentences), dtype=)\n",
    "subjects = np.empty(len(sentences))\n",
    "\n",
    "for i, s in enumerate(sentences):\n",
    "    objects[i], subjects[i] = get_entities(s)\n",
    "    \n",
    "subjects[:25]"
   ]
  },
  {
   "cell_type": "code",
   "execution_count": 16,
   "metadata": {},
   "outputs": [
    {
     "data": {
      "text/plain": [
       "[['', ''],\n",
       " ['', ''],\n",
       " ['We', ''],\n",
       " ['I', ''],\n",
       " ['', ''],\n",
       " ['', ''],\n",
       " ['', ''],\n",
       " ['', ''],\n",
       " ['', ''],\n",
       " ['This', ''],\n",
       " ['Determinants', ''],\n",
       " ['', ''],\n",
       " ['They', ''],\n",
       " ['', ''],\n",
       " ['', ''],\n",
       " ['It', ''],\n",
       " ['We', ''],\n",
       " ['', ''],\n",
       " ['This', ''],\n",
       " ['', ''],\n",
       " ['Equations', ''],\n",
       " ['', ''],\n",
       " ['', ''],\n",
       " ['', ''],\n",
       " ['', ''],\n",
       " ['It', ''],\n",
       " ['', ''],\n",
       " ['They', ''],\n",
       " ['', ''],\n",
       " ['It', ''],\n",
       " ['It', ''],\n",
       " ['', ''],\n",
       " ['', ''],\n",
       " ['We', ''],\n",
       " ['We', ''],\n",
       " ['', ''],\n",
       " ['I', ''],\n",
       " ['', ''],\n",
       " ['', ''],\n",
       " ['', ''],\n",
       " ['', ''],\n",
       " ['', ''],\n",
       " ['', ''],\n",
       " ['', ''],\n",
       " ['', ''],\n",
       " ['', ''],\n",
       " ['', ''],\n",
       " ['We', ''],\n",
       " ['', ''],\n",
       " ['', '']]"
      ]
     },
     "execution_count": 16,
     "metadata": {},
     "output_type": "execute_result"
    }
   ],
   "source": [
    "subjects = [i[0] for i in entities]\n",
    "objects = [i[1] for i in entities]\n",
    "\n",
    "kg_df = pd.DataFrame({'source':source, 'target':target, 'edge':relations})\n"
   ]
  },
  {
   "cell_type": "code",
   "execution_count": 44,
   "metadata": {},
   "outputs": [
    {
     "data": {
      "text/plain": [
       "['', '']"
      ]
     },
     "execution_count": 44,
     "metadata": {},
     "output_type": "execute_result"
    }
   ],
   "source": [
    "get_entities('the film had 200 patents')"
   ]
  },
  {
   "cell_type": "code",
   "execution_count": null,
   "metadata": {},
   "outputs": [],
   "source": []
  }
 ],
 "metadata": {
  "kernelspec": {
   "display_name": "Python 3",
   "language": "python",
   "name": "python3"
  },
  "language_info": {
   "codemirror_mode": {
    "name": "ipython",
    "version": 3
   },
   "file_extension": ".py",
   "mimetype": "text/x-python",
   "name": "python",
   "nbconvert_exporter": "python",
   "pygments_lexer": "ipython3",
   "version": "3.7.2"
  }
 },
 "nbformat": 4,
 "nbformat_minor": 2
}
