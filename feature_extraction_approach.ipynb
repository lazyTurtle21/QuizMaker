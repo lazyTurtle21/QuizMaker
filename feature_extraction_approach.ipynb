{
 "cells": [
  {
   "cell_type": "code",
   "execution_count": 8,
   "metadata": {
    "scrolled": true
   },
   "outputs": [
    {
     "name": "stdout",
     "output_type": "stream",
     "text": [
      "Requirement already satisfied: en_core_web_sm==2.2.5 from https://github.com/explosion/spacy-models/releases/download/en_core_web_sm-2.2.5/en_core_web_sm-2.2.5.tar.gz#egg=en_core_web_sm==2.2.5 in c:\\users\\xmolo\\appdata\\local\\programs\\python\\python37\\lib\\site-packages (2.2.5)\n",
      "Requirement already satisfied: spacy>=2.2.2 in c:\\users\\xmolo\\appdata\\local\\programs\\python\\python37\\lib\\site-packages (from en_core_web_sm==2.2.5) (2.2.4)\n",
      "Requirement already satisfied: blis<0.5.0,>=0.4.0 in c:\\users\\xmolo\\appdata\\local\\programs\\python\\python37\\lib\\site-packages (from spacy>=2.2.2->en_core_web_sm==2.2.5) (0.4.1)\n",
      "Requirement already satisfied: preshed<3.1.0,>=3.0.2 in c:\\users\\xmolo\\appdata\\local\\programs\\python\\python37\\lib\\site-packages (from spacy>=2.2.2->en_core_web_sm==2.2.5) (3.0.2)\n",
      "Requirement already satisfied: cymem<2.1.0,>=2.0.2 in c:\\users\\xmolo\\appdata\\local\\programs\\python\\python37\\lib\\site-packages (from spacy>=2.2.2->en_core_web_sm==2.2.5) (2.0.3)\n",
      "Requirement already satisfied: thinc==7.4.0 in c:\\users\\xmolo\\appdata\\local\\programs\\python\\python37\\lib\\site-packages (from spacy>=2.2.2->en_core_web_sm==2.2.5) (7.4.0)\n",
      "Requirement already satisfied: wasabi<1.1.0,>=0.4.0 in c:\\users\\xmolo\\appdata\\local\\programs\\python\\python37\\lib\\site-packages (from spacy>=2.2.2->en_core_web_sm==2.2.5) (0.6.0)\n",
      "Requirement already satisfied: murmurhash<1.1.0,>=0.28.0 in c:\\users\\xmolo\\appdata\\local\\programs\\python\\python37\\lib\\site-packages (from spacy>=2.2.2->en_core_web_sm==2.2.5) (1.0.2)\n",
      "Requirement already satisfied: catalogue<1.1.0,>=0.0.7 in c:\\users\\xmolo\\appdata\\local\\programs\\python\\python37\\lib\\site-packages (from spacy>=2.2.2->en_core_web_sm==2.2.5) (1.0.0)\n",
      "Requirement already satisfied: plac<1.2.0,>=0.9.6 in c:\\users\\xmolo\\appdata\\local\\programs\\python\\python37\\lib\\site-packages (from spacy>=2.2.2->en_core_web_sm==2.2.5) (1.1.3)\n",
      "Requirement already satisfied: srsly<1.1.0,>=1.0.2 in c:\\users\\xmolo\\appdata\\local\\programs\\python\\python37\\lib\\site-packages (from spacy>=2.2.2->en_core_web_sm==2.2.5) (1.0.2)\n",
      "Requirement already satisfied: requests<3.0.0,>=2.13.0 in c:\\users\\xmolo\\appdata\\local\\programs\\python\\python37\\lib\\site-packages (from spacy>=2.2.2->en_core_web_sm==2.2.5) (2.23.0)\n",
      "Requirement already satisfied: numpy>=1.15.0 in c:\\users\\xmolo\\appdata\\local\\programs\\python\\python37\\lib\\site-packages (from spacy>=2.2.2->en_core_web_sm==2.2.5) (1.18.3)\n",
      "Requirement already satisfied: setuptools in c:\\users\\xmolo\\appdata\\local\\programs\\python\\python37\\lib\\site-packages (from spacy>=2.2.2->en_core_web_sm==2.2.5) (41.2.0)\n",
      "Requirement already satisfied: tqdm<5.0.0,>=4.38.0 in c:\\users\\xmolo\\appdata\\local\\programs\\python\\python37\\lib\\site-packages (from spacy>=2.2.2->en_core_web_sm==2.2.5) (4.45.0)\n",
      "Requirement already satisfied: importlib-metadata>=0.20; python_version < \"3.8\" in c:\\users\\xmolo\\appdata\\local\\programs\\python\\python37\\lib\\site-packages (from catalogue<1.1.0,>=0.0.7->spacy>=2.2.2->en_core_web_sm==2.2.5) (1.6.0)\n",
      "Requirement already satisfied: idna<3,>=2.5 in c:\\users\\xmolo\\appdata\\local\\programs\\python\\python37\\lib\\site-packages (from requests<3.0.0,>=2.13.0->spacy>=2.2.2->en_core_web_sm==2.2.5) (2.9)\n",
      "Requirement already satisfied: certifi>=2017.4.17 in c:\\users\\xmolo\\appdata\\local\\programs\\python\\python37\\lib\\site-packages (from requests<3.0.0,>=2.13.0->spacy>=2.2.2->en_core_web_sm==2.2.5) (2020.4.5.1)\n",
      "Requirement already satisfied: urllib3!=1.25.0,!=1.25.1,<1.26,>=1.21.1 in c:\\users\\xmolo\\appdata\\local\\programs\\python\\python37\\lib\\site-packages (from requests<3.0.0,>=2.13.0->spacy>=2.2.2->en_core_web_sm==2.2.5) (1.25.9)\n",
      "Requirement already satisfied: chardet<4,>=3.0.2 in c:\\users\\xmolo\\appdata\\local\\programs\\python\\python37\\lib\\site-packages (from requests<3.0.0,>=2.13.0->spacy>=2.2.2->en_core_web_sm==2.2.5) (3.0.4)\n",
      "Requirement already satisfied: zipp>=0.5 in c:\\users\\xmolo\\appdata\\local\\programs\\python\\python37\\lib\\site-packages (from importlib-metadata>=0.20; python_version < \"3.8\"->catalogue<1.1.0,>=0.0.7->spacy>=2.2.2->en_core_web_sm==2.2.5) (3.1.0)\n",
      "[+] Download and installation successful\n",
      "You can now load the model via spacy.load('en_core_web_sm')\n"
     ]
    },
    {
     "name": "stderr",
     "output_type": "stream",
     "text": [
      "WARNING: You are using pip version 19.2.3, however version 20.0.2 is available.\n",
      "You should consider upgrading via the 'python -m pip install --upgrade pip' command.\n"
     ]
    }
   ],
   "source": [
    "!python -m spacy download en_core_web_sm"
   ]
  },
  {
   "cell_type": "code",
   "execution_count": 1,
   "metadata": {
    "scrolled": true
   },
   "outputs": [],
   "source": [
    "import spacy\n",
    "import re\n",
    "import pandas as pd\n",
    "import numpy as np\n",
    "import requests\n",
    "\n",
    "import networkx as nx\n",
    "import matplotlib.pyplot as plt\n",
    "\n",
    "from common import *\n",
    "\n",
    "from collections import OrderedDict\n",
    "\n",
    "nlp = spacy.load('en_core_web_sm')\n",
    "pd.set_option('display.max_colwidth', 200)\n",
    "%matplotlib inline\n"
   ]
  },
  {
   "cell_type": "markdown",
   "metadata": {},
   "source": [
    "## Sentence preparation"
   ]
  },
  {
   "cell_type": "code",
   "execution_count": 2,
   "metadata": {
    "scrolled": false
   },
   "outputs": [],
   "source": [
    "book = read_file('data/Strang-Linear Algebra.txt')\n",
    "chapter = OrderedDict(get_one_chapter_strang(3, book, subsections=True, \n",
    "                                      split=True, sentence_spliter=lambda ss: nlp(ss).sents))\n"
   ]
  },
  {
   "cell_type": "code",
   "execution_count": 3,
   "metadata": {},
   "outputs": [
    {
     "data": {
      "text/plain": [
       "odict_keys(['Orthogonal Vectors and Subspaces', 'Cosines and Projections onto Lines ', 'Projections and Least Squares ', 'Orthogonal Bases and Gram-Schmidt ', 'The Fast Fourier Transform '])"
      ]
     },
     "execution_count": 3,
     "metadata": {},
     "output_type": "execute_result"
    }
   ],
   "source": [
    "chapter.keys()\n"
   ]
  },
  {
   "cell_type": "markdown",
   "metadata": {},
   "source": [
    "# Sentence selection"
   ]
  },
  {
   "cell_type": "markdown",
   "metadata": {},
   "source": [
    "## Features for gap-fill question-generatable and informative sentences selection"
   ]
  },
  {
   "cell_type": "code",
   "execution_count": 4,
   "metadata": {
    "scrolled": true
   },
   "outputs": [],
   "source": [
    "### FEATURES\n",
    "\n",
    "def get_tags(sentence):\n",
    "    return [token.tag_ for token in nlp(sentence)]\n",
    "\n",
    "def get_noun_adj_tokens(words):\n",
    "    return [token.lemma_ for token in nlp(words) \n",
    "            if token.pos_ == 'ADJ' or token.pos_ == 'NOUN']\n",
    "\n",
    "    \n",
    "# Informative \n",
    "def is_first_sentence(f, c):\n",
    "    return f == c\n",
    "\n",
    "\n",
    "def has_superlatives(curr):\n",
    "    pos_tags = get_tags(curr)\n",
    "    return 'JJR' in pos_tags or 'JJS' in pos_tags\n",
    "\n",
    "\n",
    "def has_abbreviation(curr):\n",
    "    is_abbr = lambda word: word.upper() == word and len(word) > 1\n",
    "    return any(is_abbr(x) for x in curr.split())\n",
    "\n",
    "\n",
    "def has_correct_ending(curr):\n",
    "    return curr[-1] in ['?', '.', '!']\n",
    "\n",
    "# Generative\n",
    "\n",
    "\n",
    "def relative_number_of_words(curr):\n",
    "    abs_n = abs(len(curr.split()) - 10)\n",
    "    return -abs_n if abs_n > 5 else abs_n\n",
    "\n",
    "\n",
    "def relative_index(i, doc_length):\n",
    "    abs_i = abs(i - doc_length/2)\n",
    "    return abs_i if abs_i > doc_length/4 else -abs_i\n",
    "\n",
    "\n",
    "def common_tokens_count(curr, title):\n",
    "    curr_tokens = get_noun_adj_tokens(curr)\n",
    "    title_tokens = get_noun_adj_tokens(title.lower())\n",
    "    \n",
    "    return sum([tok in curr_tokens for tok in title_tokens])\n",
    "\n",
    "\n",
    "def begins_with_discourse_connective(curr):\n",
    "    discource_connective = ['because', 'since', 'when', 'thus', \n",
    "                            'however', 'although', 'for example', \n",
    "                            'and', 'for instance', 'how', 'in other words',\n",
    "                            'therefore', 'up to this point']\n",
    "    curr = curr.lower()\n",
    "    return any(curr.startswith(x) for x in discource_connective)\n",
    "\n",
    "\n",
    "def nouns_number(curr):\n",
    "    return sum(x.pos_ == 'NOUN' for x in nlp(curr))\n",
    "\n",
    "\n",
    "def pronouns_number(curr):\n",
    "    return sum(x.pos_ == 'PRON' for x in nlp(curr))\n",
    "\n"
   ]
  },
  {
   "cell_type": "markdown",
   "metadata": {},
   "source": [
    "## Features calculation"
   ]
  },
  {
   "cell_type": "code",
   "execution_count": 5,
   "metadata": {},
   "outputs": [],
   "source": [
    "feature_weights = {\n",
    "    +4:lambda s, indx, title, first_s, doc_length:  is_first_sentence(s, first_s),\n",
    "    +1:lambda s, indx, title, first_s, doc_length:  has_superlatives(s),\n",
    "    +1:lambda s, indx, title, first_s, doc_length:  has_abbreviation(s),\n",
    "    +.5:lambda s, indx, title, first_s, doc_length:  relative_number_of_words(s),\n",
    "    +2:lambda s, indx, title, first_s, doc_length:  common_tokens_count(s, title),\n",
    "    -2:lambda s, indx, title, first_s, doc_length:  begins_with_discourse_connective(s),\n",
    "    +1:lambda s, indx, title, first_s, doc_length:  nouns_number(s),\n",
    "    -2.5:lambda s, indx, title, first_s, doc_length:  pronouns_number(s),\n",
    "    +0.01:lambda s, indx, title, first_s, doc_length:  relative_index(indx, doc_length),\n",
    "    +2:lambda s, indx, title, first_s, doc_length:  has_correct_ending(s)\n",
    "}\n",
    "\n",
    "\n",
    "def get_sentence_score(sentence, index, title, first_sentence, doc_length, weights):\n",
    "    return sum(key * weights[key](sentence, index, title, first_sentence, doc_length) \n",
    "               for key in weights)"
   ]
  },
  {
   "cell_type": "code",
   "execution_count": 6,
   "metadata": {},
   "outputs": [],
   "source": [
    "scores = np.zeros(sum(len(chapter[x]) for x in chapter))\n",
    "global_indx = 0\n",
    "for key in chapter:\n",
    "    document = chapter[key]\n",
    "    title = key\n",
    "    doc_length = len(document)\n",
    "    first_sentence = document[0]\n",
    "    \n",
    "    for i, sentence in enumerate(document):\n",
    "        scores[global_indx] = get_sentence_score(\n",
    "                              sentence, i, title, first_sentence, \n",
    "                              doc_length, feature_weights)\n",
    "        global_indx += 1"
   ]
  },
  {
   "cell_type": "code",
   "execution_count": 7,
   "metadata": {},
   "outputs": [],
   "source": [
    "docs = OrderedDict((key, len(chapter[key])) for key in chapter)\n",
    "\n",
    "def get_sentence_index_in_document(doc_sent_indx, docs):\n",
    "    indexes =list(docs.values())\n",
    "    i = -1\n",
    "    prev = 0\n",
    "    while doc_sent_indx >= 0:\n",
    "        i += 1\n",
    "        prev = doc_sent_indx\n",
    "        doc_sent_indx -= indexes[i]\n",
    "    doc_name = list(docs.keys())[i]\n",
    "    return doc_name, prev"
   ]
  },
  {
   "cell_type": "markdown",
   "metadata": {},
   "source": [
    "## Getting sentences with best scores"
   ]
  },
  {
   "cell_type": "code",
   "execution_count": 8,
   "metadata": {},
   "outputs": [
    {
     "name": "stdout",
     "output_type": "stream",
     "text": [
      "Orthogonal Bases and Gram-Schmidt \n",
      "In an orthogonal basis, every vector is perpendicular to every other vector.\n",
      "16.11\n",
      "\n",
      "Orthogonal Bases and Gram-Schmidt \n",
      "The Gram-Schmidt process and its interpretation as a new factorization A = QR.\n",
      "13.99\n",
      "\n",
      "Orthogonal Vectors and Subspaces\n",
      "A basis is a set of independent vectors that span a space.\n",
      "13.71\n",
      "\n",
      "Orthogonal Bases and Gram-Schmidt \n",
      "improvement is easy: Divide each vector by its length, to make it a unit vector.\n",
      "13.08\n",
      "\n",
      "Orthogonal Bases and Gram-Schmidt \n",
      "1 0  reflects every point (x;y) into (y;x), its mirror image across the 45 line.\n",
      "12.98\n",
      "\n",
      "The Fast Fourier Transform \n",
      "The Fourier series is linear algebra in infinite dimensions.\n",
      "12.95\n",
      "\n",
      "Orthogonal Bases and Gram-Schmidt \n",
      "All the terms in the series are projections onto a sine or cosine.\n",
      "12.84\n",
      "\n",
      "Orthogonal Bases and Gram-Schmidt \n",
      "Its component p in this direction is exactly b1 sin x.\n",
      "12.8\n",
      "\n",
      "Orthogonal Bases and Gram-Schmidt \n",
      "The solution of Qx = b, either n by n or rectangular (least squares).\n",
      "12.51\n",
      "\n",
      "The Fast Fourier Transform \n",
      "At the right is the permutation matrix that separates c into c0 and c00.\n",
      "12.06\n",
      "\n",
      "Orthogonal Bases and Gram-Schmidt \n",
      "= x5 by least squares.\n",
      "11.99\n",
      "\n",
      "Orthogonal Bases and Gram-Schmidt \n",
      "Geometrically, an orthogonal Q is the product of a rotation and a reflection.\n",
      "11.969999999999999\n",
      "\n",
      "The Fast Fourier Transform \n",
      "Even numbers come before odd (numbers ending in 0 come before numbers ending in 1).\n",
      "11.94\n",
      "\n",
      "Projections and Least Squares \n",
      "In spite of their unsolvability, inconsistent equations arise all the time in practice.\n",
      "11.845\n",
      "\n",
      "Orthogonal Bases and Gram-Schmidt \n",
      "Any permutation matrix P is an orthogonal matrix.\n",
      "11.81\n",
      "\n",
      "Orthogonal Vectors and Subspaces\n",
      "(2) Applying the length formula (1), this test for orthogonality in Rn becomes .\n",
      "11.76\n",
      "\n",
      "Orthogonal Bases and Gram-Schmidt \n",
      "These rotation matrices will be examples of Q.\n",
      "11.57\n",
      "\n",
      "Orthogonal Bases and Gram-Schmidt \n",
      "Each piece of b has a simple formula, and recombining the pieces gives back b:\n",
      "11.54\n",
      "\n",
      "Projections and Least Squares \n",
      "The projection of b onto the column space is the nearest point Abx: Projection p\n",
      "11.535\n",
      "\n",
      "Orthogonal Bases and Gram-Schmidt \n",
      "All inner products and lengths are preserved, when the space is rotated or reflected.\n",
      "11.29\n",
      "\n"
     ]
    }
   ],
   "source": [
    "ordered_scores = np.flip(np.argsort(scores))\n",
    "top_scores = ordered_scores[:20]\n",
    "\n",
    "top_sentences = []\n",
    "for s in top_scores:\n",
    "    doc_name, index = get_sentence_index_in_document(s, docs)\n",
    "    top_sentences.append((doc_name, index))\n",
    "    \n",
    "    print(doc_name)\n",
    "    print(chapter[doc_name][index])\n",
    "    print(scores[s])\n",
    "    print()"
   ]
  },
  {
   "cell_type": "markdown",
   "metadata": {},
   "source": [
    "# Key selection"
   ]
  },
  {
   "cell_type": "code",
   "execution_count": 9,
   "metadata": {},
   "outputs": [
    {
     "data": {
      "text/plain": [
       "defaultdict(<function __main__.<lambda>()>,\n",
       "            {0: ['an orthogonal basis', 'every vector', 'every other vector'],\n",
       "             1: ['The Gram-Schmidt process',\n",
       "              'its interpretation',\n",
       "              'a new factorization',\n",
       "              'A = QR'],\n",
       "             2: ['A basis', 'a set', 'independent vectors', 'a space'],\n",
       "             3: ['improvement', 'each vector', 'its length', 'it'],\n",
       "             4: ['every point',\n",
       "              'x;y',\n",
       "              '(y;x',\n",
       "              'its mirror image',\n",
       "              'the 45 line'],\n",
       "             5: ['The Fourier series',\n",
       "              'linear algebra',\n",
       "              'infinite dimensions'],\n",
       "             6: ['All the terms',\n",
       "              'the series',\n",
       "              'projections',\n",
       "              'a sine',\n",
       "              'cosine'],\n",
       "             7: ['Its component p', 'this direction', 'exactly b1 sin x.'],\n",
       "             8: ['The solution', 'Qx = b', 'n'],\n",
       "             9: ['the right', 'the permutation matrix', 'c', 'c0', 'c00'],\n",
       "             10: ['= x5', 'least squares'],\n",
       "             11: ['an orthogonal Q',\n",
       "              'the product',\n",
       "              'a rotation',\n",
       "              'a reflection'],\n",
       "             12: ['Even numbers', 'numbers', 'numbers'],\n",
       "             13: ['spite',\n",
       "              'their unsolvability',\n",
       "              'inconsistent equations',\n",
       "              'all the time',\n",
       "              'practice'],\n",
       "             14: ['Any permutation matrix P', 'an orthogonal matrix'],\n",
       "             15: ['the length formula', 'this test', 'orthogonality', 'Rn'],\n",
       "             16: ['These rotation matrices', 'examples', 'Q.'],\n",
       "             17: ['Each piece', 'b', 'a simple formula', 'the pieces', 'b'],\n",
       "             18: ['The projection',\n",
       "              'b',\n",
       "              'the column space',\n",
       "              'the nearest point',\n",
       "              'Abx',\n",
       "              'Projection p'],\n",
       "             19: ['All inner products', 'lengths', 'the space']})"
      ]
     },
     "execution_count": 9,
     "metadata": {},
     "output_type": "execute_result"
    }
   ],
   "source": [
    "from collections import defaultdict\n",
    "\n",
    "\n",
    "key_list = defaultdict(lambda: list())\n",
    "\n",
    "for i, (doc_name, sent_i) in enumerate(top_sentences):\n",
    "    sent = chapter[doc_name][sent_i]\n",
    "    for chunk in nlp(sent).noun_chunks:\n",
    "        key_list[i].append(chunk.text)\n",
    "\n",
    "key_list"
   ]
  },
  {
   "cell_type": "code",
   "execution_count": 10,
   "metadata": {},
   "outputs": [],
   "source": [
    "def get_most_important_word(chunk):\n",
    "    importance_order = ['ADJ','NOUN', 'NUM']\n",
    "    for pos in importance_order:\n",
    "        for i in nlp(chunk):\n",
    "            if str(i.pos_) == pos:\n",
    "                return i.text\n",
    "        "
   ]
  },
  {
   "cell_type": "code",
   "execution_count": 11,
   "metadata": {},
   "outputs": [
    {
     "data": {
      "text/plain": [
       "['ADV', 'NOUN', 'ADJ', 'SCONJ', 'NUM', 'CCONJ', 'NUM']"
      ]
     },
     "execution_count": 11,
     "metadata": {},
     "output_type": "execute_result"
    }
   ],
   "source": [
    "[x.pos_ for x in nlp('Even numbers such as 2 and 4')]"
   ]
  },
  {
   "cell_type": "code",
   "execution_count": 12,
   "metadata": {},
   "outputs": [
    {
     "data": {
      "text/plain": [
       "'such'"
      ]
     },
     "execution_count": 12,
     "metadata": {},
     "output_type": "execute_result"
    }
   ],
   "source": [
    "get_most_important_word('Even numbers such as 2 and 4')"
   ]
  },
  {
   "cell_type": "markdown",
   "metadata": {},
   "source": [
    "### Features for key selection"
   ]
  },
  {
   "cell_type": "code",
   "execution_count": 13,
   "metadata": {},
   "outputs": [],
   "source": [
    "def title_occurance(key, title):\n",
    "    return common_tokens_count(key, title)\n",
    "\n",
    "\n",
    "def document_occurance(key, doc):\n",
    "    total = 0\n",
    "    for s in doc:\n",
    "        total += common_tokens_count(key, s)\n",
    "    return total\n",
    "\n",
    "\n",
    "def get_depth_in_syntactic_tree(token, depth=0):\n",
    "    d = [get_depth_in_syntactic_tree(child, depth+1) for child in token.children]\n",
    "    d.append(0)\n",
    "    return max(d)\n",
    "    \n",
    "\n",
    "def depth_in_sentence(key, s):\n",
    "    most_imp = get_most_important_word(key)\n",
    "    for tok in nlp(s):\n",
    "        if str(tok.text) == most_imp:\n",
    "            return get_depth_in_syntactic_tree(tok)\n",
    "    return 0\n"
   ]
  },
  {
   "cell_type": "code",
   "execution_count": 14,
   "metadata": {},
   "outputs": [],
   "source": [
    "def get_best_key(key_list, sentence, doc, title):\n",
    "    scores = [title_occurance((key), title)  + \\\n",
    "              document_occurance((key), doc) +\n",
    "              depth_in_sentence((key), sentence)\n",
    "                  for key in key_list]\n",
    "    return key_list[scores.index(max(scores))]"
   ]
  },
  {
   "cell_type": "code",
   "execution_count": 15,
   "metadata": {},
   "outputs": [
    {
     "name": "stdout",
     "output_type": "stream",
     "text": [
      "['an orthogonal basis', 'every vector', 'every other vector']\n",
      "an orthogonal basis\n",
      "['The Gram-Schmidt process', 'its interpretation', 'a new factorization', 'A = QR']\n",
      "a new factorization\n",
      "['A basis', 'a set', 'independent vectors', 'a space']\n",
      "independent vectors\n",
      "['improvement', 'each vector', 'its length', 'it']\n",
      "each vector\n",
      "['every point', 'x;y', '(y;x', 'its mirror image', 'the 45 line']\n",
      "the 45 line\n",
      "['The Fourier series', 'linear algebra', 'infinite dimensions']\n",
      "linear algebra\n",
      "['All the terms', 'the series', 'projections', 'a sine', 'cosine']\n",
      "projections\n",
      "['Its component p', 'this direction', 'exactly b1 sin x.']\n",
      "Its component p\n",
      "['The solution', 'Qx = b', 'n']\n",
      "Qx = b\n",
      "['the right', 'the permutation matrix', 'c', 'c0', 'c00']\n",
      "the permutation matrix\n",
      "['= x5', 'least squares']\n",
      "least squares\n",
      "['an orthogonal Q', 'the product', 'a rotation', 'a reflection']\n",
      "an orthogonal Q\n",
      "['Even numbers', 'numbers', 'numbers']\n",
      "Even numbers\n",
      "['spite', 'their unsolvability', 'inconsistent equations', 'all the time', 'practice']\n",
      "inconsistent equations\n",
      "['Any permutation matrix P', 'an orthogonal matrix']\n",
      "an orthogonal matrix\n",
      "['the length formula', 'this test', 'orthogonality', 'Rn']\n",
      "the length formula\n",
      "['These rotation matrices', 'examples', 'Q.']\n",
      "These rotation matrices\n",
      "['Each piece', 'b', 'a simple formula', 'the pieces', 'b']\n",
      "a simple formula\n",
      "['The projection', 'b', 'the column space', 'the nearest point', 'Abx', 'Projection p']\n",
      "the column space\n",
      "['All inner products', 'lengths', 'the space']\n",
      "All inner products\n"
     ]
    },
    {
     "data": {
      "text/plain": [
       "defaultdict(<function __main__.<lambda>()>,\n",
       "            {0: 'an orthogonal basis',\n",
       "             1: 'a new factorization',\n",
       "             2: 'independent vectors',\n",
       "             3: 'each vector',\n",
       "             4: 'the 45 line',\n",
       "             5: 'linear algebra',\n",
       "             6: 'projections',\n",
       "             7: 'Its component p',\n",
       "             8: 'Qx = b',\n",
       "             9: 'the permutation matrix',\n",
       "             10: 'least squares',\n",
       "             11: 'an orthogonal Q',\n",
       "             12: 'Even numbers',\n",
       "             13: 'inconsistent equations',\n",
       "             14: 'an orthogonal matrix',\n",
       "             15: 'the length formula',\n",
       "             16: 'These rotation matrices',\n",
       "             17: 'a simple formula',\n",
       "             18: 'the column space',\n",
       "             19: 'All inner products'})"
      ]
     },
     "execution_count": 15,
     "metadata": {},
     "output_type": "execute_result"
    }
   ],
   "source": [
    "for i in key_list:\n",
    "    doc = chapter[top_sentences[i][0]]\n",
    "    s = doc[top_sentences[i][1]]\n",
    "    print(key_list[i])\n",
    "    key_list[i] = get_best_key(key_list[i], s, doc, top_sentences[i][0])\n",
    "    print(key_list[i])\n",
    "\n",
    "key_list"
   ]
  },
  {
   "cell_type": "code",
   "execution_count": 17,
   "metadata": {},
   "outputs": [
    {
     "name": "stdout",
     "output_type": "stream",
     "text": [
      "In ___________________, every vector is perpendicular to every other vector.\n",
      "Answer: an orthogonal basis\n",
      "\n",
      "The Gram-Schmidt process and its interpretation as ___________________ A = QR.\n",
      "Answer: a new factorization\n",
      "\n",
      "A basis is a set of ___________________ that span a space.\n",
      "Answer: independent vectors\n",
      "\n",
      "improvement is easy: Divide ___________ by its length, to make it a unit vector.\n",
      "Answer: each vector\n",
      "\n",
      "1 0  reflects every point (x;y) into (y;x), its mirror image across ___________.\n",
      "Answer: the 45 line\n",
      "\n",
      "The Fourier series is ______________ in infinite dimensions.\n",
      "Answer: linear algebra\n",
      "\n",
      "All the terms in the series are ___________ onto a sine or cosine.\n",
      "Answer: projections\n",
      "\n",
      "_______________ in this direction is exactly b1 sin x.\n",
      "Answer: Its component p\n",
      "\n",
      "The solution of ______, either n by n or rectangular (least squares).\n",
      "Answer: Qx = b\n",
      "\n",
      "At the right is ______________________ that separates c into c0 and c00.\n",
      "Answer: the permutation matrix\n",
      "\n",
      "= x5 by _____________.\n",
      "Answer: least squares\n",
      "\n",
      "Geometrically, _______________ is the product of a rotation and a reflection.\n",
      "Answer: an orthogonal Q\n",
      "\n",
      "____________ come before odd (numbers ending in 0 come before numbers ending in 1).\n",
      "Answer: Even numbers\n",
      "\n",
      "In spite of their unsolvability, ______________________ arise all the time in practice.\n",
      "Answer: inconsistent equations\n",
      "\n",
      "Any permutation matrix P is ____________________.\n",
      "Answer: an orthogonal matrix\n",
      "\n",
      "(2) Applying __________________ (1), this test for orthogonality in Rn becomes .\n",
      "Answer: the length formula\n",
      "\n",
      "_______________________ will be examples of Q.\n",
      "Answer: These rotation matrices\n",
      "\n",
      "Each piece of b has ________________, and recombining the pieces gives back b:\n",
      "Answer: a simple formula\n",
      "\n",
      "The projection of b onto ________________ is the nearest point Abx: Projection p\n",
      "Answer: the column space\n",
      "\n",
      "__________________ and lengths are preserved, when the space is rotated or reflected.\n",
      "Answer: All inner products\n",
      "\n"
     ]
    }
   ],
   "source": [
    "for i, (doc_name, sentence_index) in enumerate(top_sentences):\n",
    "    s = chapter[doc_name][sentence_index]\n",
    "    create_gap_filled_question(s, key_list[i])\n",
    "    print()"
   ]
  },
  {
   "cell_type": "markdown",
   "metadata": {},
   "source": [
    "# Distractors selection"
   ]
  },
  {
   "cell_type": "code",
   "execution_count": null,
   "metadata": {},
   "outputs": [],
   "source": [
    " ## HELOOOOOOOOOOO\n",
    "##   top_sentences = [ (name of document, index in document),...]  see above s = chapter[top_sentences[i][0]][top_sentences[i][1]]\n",
    "\n",
    "##get sentence = chapter[name of document][index]\n"
   ]
  }
 ],
 "metadata": {
  "kernelspec": {
   "display_name": "Python 3",
   "language": "python",
   "name": "python3"
  },
  "language_info": {
   "codemirror_mode": {
    "name": "ipython",
    "version": 3
   },
   "file_extension": ".py",
   "mimetype": "text/x-python",
   "name": "python",
   "nbconvert_exporter": "python",
   "pygments_lexer": "ipython3",
   "version": "3.7.7"
  }
 },
 "nbformat": 4,
 "nbformat_minor": 2
}
